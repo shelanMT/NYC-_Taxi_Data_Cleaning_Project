{
  "nbformat": 4,
  "nbformat_minor": 0,
  "metadata": {
    "colab": {
      "provenance": []
    },
    "kernelspec": {
      "name": "python3",
      "display_name": "Python 3"
    },
    "language_info": {
      "name": "python"
    }
  },
  "cells": [
    {
      "cell_type": "markdown",
      "source": [
        "What this code did :\n",
        "\n",
        "*   Downloads Oct, Nov, Dec 2023 NYC Yellow Taxi data.\n",
        "*   Cleans the dataset (removes wrong trips, fills NaNs, fixes types).\n",
        "*   Creates a new clean DataFrame called df_clean.\n",
        "*   Checks for any missing values column by column."
      ],
      "metadata": {
        "id": "JWYm455abos_"
      }
    },
    {
      "cell_type": "code",
      "execution_count": 4,
      "metadata": {
        "colab": {
          "base_uri": "https://localhost:8080/",
          "height": 399
        },
        "id": "Rm0OInt50xg9",
        "outputId": "648e6e3b-f28a-4562-86d4-77b19c5d101f"
      },
      "outputs": [
        {
          "output_type": "stream",
          "name": "stdout",
          "text": [
            "📥 Downloading: https://d37ci6vzurychx.cloudfront.net/trip-data/yellow_tripdata_2023-10.parquet\n",
            "   Rows in 2023-10: 3522285\n",
            "📥 Downloading: https://d37ci6vzurychx.cloudfront.net/trip-data/yellow_tripdata_2023-11.parquet\n",
            "   Rows in 2023-11: 3339715\n",
            "📥 Downloading: https://d37ci6vzurychx.cloudfront.net/trip-data/yellow_tripdata_2023-12.parquet\n",
            "   Rows in 2023-12: 3376567\n",
            "\n",
            "✅ Combined dataset\n",
            "Total rows: 10238567\n",
            "Total columns: 19\n"
          ]
        },
        {
          "output_type": "execute_result",
          "data": {
            "text/plain": [
              "   VendorID tpep_pickup_datetime tpep_dropoff_datetime  passenger_count  \\\n",
              "0         1  2023-10-01 00:16:44   2023-10-01 00:16:49              1.0   \n",
              "1         1  2023-10-01 00:23:24   2023-10-01 00:23:47              1.0   \n",
              "2         1  2023-10-01 00:21:18   2023-10-01 00:27:31              1.0   \n",
              "3         1  2023-10-01 00:17:39   2023-10-01 00:17:47              0.0   \n",
              "4         2  2023-10-01 00:16:15   2023-10-01 00:22:57              2.0   \n",
              "\n",
              "   trip_distance  RatecodeID store_and_fwd_flag  PULocationID  DOLocationID  \\\n",
              "0           0.00         1.0                  N           168           168   \n",
              "1           0.00         1.0                  N           168           168   \n",
              "2           0.90         1.0                  N           161           186   \n",
              "3           0.00         1.0                  N           255           255   \n",
              "4           1.41         1.0                  N           151           239   \n",
              "\n",
              "   payment_type  fare_amount  extra  mta_tax  tip_amount  tolls_amount  \\\n",
              "0             2          3.0    1.0      0.5         0.0           0.0   \n",
              "1             2          3.0    1.0      0.5         0.0           0.0   \n",
              "2             1          6.5    3.5      0.5         2.9           0.0   \n",
              "3             3          3.0    1.0      0.5         0.0           0.0   \n",
              "4             1         10.0    1.0      0.5         3.0           0.0   \n",
              "\n",
              "   improvement_surcharge  total_amount  congestion_surcharge  Airport_fee  \n",
              "0                    1.0           5.5                   0.0          0.0  \n",
              "1                    1.0           5.5                   0.0          0.0  \n",
              "2                    1.0          14.4                   2.5          0.0  \n",
              "3                    1.0           5.5                   0.0          0.0  \n",
              "4                    1.0          18.0                   2.5          0.0  "
            ],
            "text/html": [
              "\n",
              "  <div id=\"df-305d6fbd-c1dd-41ca-ba30-e062e8e094df\" class=\"colab-df-container\">\n",
              "    <div>\n",
              "<style scoped>\n",
              "    .dataframe tbody tr th:only-of-type {\n",
              "        vertical-align: middle;\n",
              "    }\n",
              "\n",
              "    .dataframe tbody tr th {\n",
              "        vertical-align: top;\n",
              "    }\n",
              "\n",
              "    .dataframe thead th {\n",
              "        text-align: right;\n",
              "    }\n",
              "</style>\n",
              "<table border=\"1\" class=\"dataframe\">\n",
              "  <thead>\n",
              "    <tr style=\"text-align: right;\">\n",
              "      <th></th>\n",
              "      <th>VendorID</th>\n",
              "      <th>tpep_pickup_datetime</th>\n",
              "      <th>tpep_dropoff_datetime</th>\n",
              "      <th>passenger_count</th>\n",
              "      <th>trip_distance</th>\n",
              "      <th>RatecodeID</th>\n",
              "      <th>store_and_fwd_flag</th>\n",
              "      <th>PULocationID</th>\n",
              "      <th>DOLocationID</th>\n",
              "      <th>payment_type</th>\n",
              "      <th>fare_amount</th>\n",
              "      <th>extra</th>\n",
              "      <th>mta_tax</th>\n",
              "      <th>tip_amount</th>\n",
              "      <th>tolls_amount</th>\n",
              "      <th>improvement_surcharge</th>\n",
              "      <th>total_amount</th>\n",
              "      <th>congestion_surcharge</th>\n",
              "      <th>Airport_fee</th>\n",
              "    </tr>\n",
              "  </thead>\n",
              "  <tbody>\n",
              "    <tr>\n",
              "      <th>0</th>\n",
              "      <td>1</td>\n",
              "      <td>2023-10-01 00:16:44</td>\n",
              "      <td>2023-10-01 00:16:49</td>\n",
              "      <td>1.0</td>\n",
              "      <td>0.00</td>\n",
              "      <td>1.0</td>\n",
              "      <td>N</td>\n",
              "      <td>168</td>\n",
              "      <td>168</td>\n",
              "      <td>2</td>\n",
              "      <td>3.0</td>\n",
              "      <td>1.0</td>\n",
              "      <td>0.5</td>\n",
              "      <td>0.0</td>\n",
              "      <td>0.0</td>\n",
              "      <td>1.0</td>\n",
              "      <td>5.5</td>\n",
              "      <td>0.0</td>\n",
              "      <td>0.0</td>\n",
              "    </tr>\n",
              "    <tr>\n",
              "      <th>1</th>\n",
              "      <td>1</td>\n",
              "      <td>2023-10-01 00:23:24</td>\n",
              "      <td>2023-10-01 00:23:47</td>\n",
              "      <td>1.0</td>\n",
              "      <td>0.00</td>\n",
              "      <td>1.0</td>\n",
              "      <td>N</td>\n",
              "      <td>168</td>\n",
              "      <td>168</td>\n",
              "      <td>2</td>\n",
              "      <td>3.0</td>\n",
              "      <td>1.0</td>\n",
              "      <td>0.5</td>\n",
              "      <td>0.0</td>\n",
              "      <td>0.0</td>\n",
              "      <td>1.0</td>\n",
              "      <td>5.5</td>\n",
              "      <td>0.0</td>\n",
              "      <td>0.0</td>\n",
              "    </tr>\n",
              "    <tr>\n",
              "      <th>2</th>\n",
              "      <td>1</td>\n",
              "      <td>2023-10-01 00:21:18</td>\n",
              "      <td>2023-10-01 00:27:31</td>\n",
              "      <td>1.0</td>\n",
              "      <td>0.90</td>\n",
              "      <td>1.0</td>\n",
              "      <td>N</td>\n",
              "      <td>161</td>\n",
              "      <td>186</td>\n",
              "      <td>1</td>\n",
              "      <td>6.5</td>\n",
              "      <td>3.5</td>\n",
              "      <td>0.5</td>\n",
              "      <td>2.9</td>\n",
              "      <td>0.0</td>\n",
              "      <td>1.0</td>\n",
              "      <td>14.4</td>\n",
              "      <td>2.5</td>\n",
              "      <td>0.0</td>\n",
              "    </tr>\n",
              "    <tr>\n",
              "      <th>3</th>\n",
              "      <td>1</td>\n",
              "      <td>2023-10-01 00:17:39</td>\n",
              "      <td>2023-10-01 00:17:47</td>\n",
              "      <td>0.0</td>\n",
              "      <td>0.00</td>\n",
              "      <td>1.0</td>\n",
              "      <td>N</td>\n",
              "      <td>255</td>\n",
              "      <td>255</td>\n",
              "      <td>3</td>\n",
              "      <td>3.0</td>\n",
              "      <td>1.0</td>\n",
              "      <td>0.5</td>\n",
              "      <td>0.0</td>\n",
              "      <td>0.0</td>\n",
              "      <td>1.0</td>\n",
              "      <td>5.5</td>\n",
              "      <td>0.0</td>\n",
              "      <td>0.0</td>\n",
              "    </tr>\n",
              "    <tr>\n",
              "      <th>4</th>\n",
              "      <td>2</td>\n",
              "      <td>2023-10-01 00:16:15</td>\n",
              "      <td>2023-10-01 00:22:57</td>\n",
              "      <td>2.0</td>\n",
              "      <td>1.41</td>\n",
              "      <td>1.0</td>\n",
              "      <td>N</td>\n",
              "      <td>151</td>\n",
              "      <td>239</td>\n",
              "      <td>1</td>\n",
              "      <td>10.0</td>\n",
              "      <td>1.0</td>\n",
              "      <td>0.5</td>\n",
              "      <td>3.0</td>\n",
              "      <td>0.0</td>\n",
              "      <td>1.0</td>\n",
              "      <td>18.0</td>\n",
              "      <td>2.5</td>\n",
              "      <td>0.0</td>\n",
              "    </tr>\n",
              "  </tbody>\n",
              "</table>\n",
              "</div>\n",
              "    <div class=\"colab-df-buttons\">\n",
              "\n",
              "  <div class=\"colab-df-container\">\n",
              "    <button class=\"colab-df-convert\" onclick=\"convertToInteractive('df-305d6fbd-c1dd-41ca-ba30-e062e8e094df')\"\n",
              "            title=\"Convert this dataframe to an interactive table.\"\n",
              "            style=\"display:none;\">\n",
              "\n",
              "  <svg xmlns=\"http://www.w3.org/2000/svg\" height=\"24px\" viewBox=\"0 -960 960 960\">\n",
              "    <path d=\"M120-120v-720h720v720H120Zm60-500h600v-160H180v160Zm220 220h160v-160H400v160Zm0 220h160v-160H400v160ZM180-400h160v-160H180v160Zm440 0h160v-160H620v160ZM180-180h160v-160H180v160Zm440 0h160v-160H620v160Z\"/>\n",
              "  </svg>\n",
              "    </button>\n",
              "\n",
              "  <style>\n",
              "    .colab-df-container {\n",
              "      display:flex;\n",
              "      gap: 12px;\n",
              "    }\n",
              "\n",
              "    .colab-df-convert {\n",
              "      background-color: #E8F0FE;\n",
              "      border: none;\n",
              "      border-radius: 50%;\n",
              "      cursor: pointer;\n",
              "      display: none;\n",
              "      fill: #1967D2;\n",
              "      height: 32px;\n",
              "      padding: 0 0 0 0;\n",
              "      width: 32px;\n",
              "    }\n",
              "\n",
              "    .colab-df-convert:hover {\n",
              "      background-color: #E2EBFA;\n",
              "      box-shadow: 0px 1px 2px rgba(60, 64, 67, 0.3), 0px 1px 3px 1px rgba(60, 64, 67, 0.15);\n",
              "      fill: #174EA6;\n",
              "    }\n",
              "\n",
              "    .colab-df-buttons div {\n",
              "      margin-bottom: 4px;\n",
              "    }\n",
              "\n",
              "    [theme=dark] .colab-df-convert {\n",
              "      background-color: #3B4455;\n",
              "      fill: #D2E3FC;\n",
              "    }\n",
              "\n",
              "    [theme=dark] .colab-df-convert:hover {\n",
              "      background-color: #434B5C;\n",
              "      box-shadow: 0px 1px 3px 1px rgba(0, 0, 0, 0.15);\n",
              "      filter: drop-shadow(0px 1px 2px rgba(0, 0, 0, 0.3));\n",
              "      fill: #FFFFFF;\n",
              "    }\n",
              "  </style>\n",
              "\n",
              "    <script>\n",
              "      const buttonEl =\n",
              "        document.querySelector('#df-305d6fbd-c1dd-41ca-ba30-e062e8e094df button.colab-df-convert');\n",
              "      buttonEl.style.display =\n",
              "        google.colab.kernel.accessAllowed ? 'block' : 'none';\n",
              "\n",
              "      async function convertToInteractive(key) {\n",
              "        const element = document.querySelector('#df-305d6fbd-c1dd-41ca-ba30-e062e8e094df');\n",
              "        const dataTable =\n",
              "          await google.colab.kernel.invokeFunction('convertToInteractive',\n",
              "                                                    [key], {});\n",
              "        if (!dataTable) return;\n",
              "\n",
              "        const docLinkHtml = 'Like what you see? Visit the ' +\n",
              "          '<a target=\"_blank\" href=https://colab.research.google.com/notebooks/data_table.ipynb>data table notebook</a>'\n",
              "          + ' to learn more about interactive tables.';\n",
              "        element.innerHTML = '';\n",
              "        dataTable['output_type'] = 'display_data';\n",
              "        await google.colab.output.renderOutput(dataTable, element);\n",
              "        const docLink = document.createElement('div');\n",
              "        docLink.innerHTML = docLinkHtml;\n",
              "        element.appendChild(docLink);\n",
              "      }\n",
              "    </script>\n",
              "  </div>\n",
              "\n",
              "\n",
              "    <div id=\"df-5ab24c56-c04b-4844-b19d-ccac555cc756\">\n",
              "      <button class=\"colab-df-quickchart\" onclick=\"quickchart('df-5ab24c56-c04b-4844-b19d-ccac555cc756')\"\n",
              "                title=\"Suggest charts\"\n",
              "                style=\"display:none;\">\n",
              "\n",
              "<svg xmlns=\"http://www.w3.org/2000/svg\" height=\"24px\"viewBox=\"0 0 24 24\"\n",
              "     width=\"24px\">\n",
              "    <g>\n",
              "        <path d=\"M19 3H5c-1.1 0-2 .9-2 2v14c0 1.1.9 2 2 2h14c1.1 0 2-.9 2-2V5c0-1.1-.9-2-2-2zM9 17H7v-7h2v7zm4 0h-2V7h2v10zm4 0h-2v-4h2v4z\"/>\n",
              "    </g>\n",
              "</svg>\n",
              "      </button>\n",
              "\n",
              "<style>\n",
              "  .colab-df-quickchart {\n",
              "      --bg-color: #E8F0FE;\n",
              "      --fill-color: #1967D2;\n",
              "      --hover-bg-color: #E2EBFA;\n",
              "      --hover-fill-color: #174EA6;\n",
              "      --disabled-fill-color: #AAA;\n",
              "      --disabled-bg-color: #DDD;\n",
              "  }\n",
              "\n",
              "  [theme=dark] .colab-df-quickchart {\n",
              "      --bg-color: #3B4455;\n",
              "      --fill-color: #D2E3FC;\n",
              "      --hover-bg-color: #434B5C;\n",
              "      --hover-fill-color: #FFFFFF;\n",
              "      --disabled-bg-color: #3B4455;\n",
              "      --disabled-fill-color: #666;\n",
              "  }\n",
              "\n",
              "  .colab-df-quickchart {\n",
              "    background-color: var(--bg-color);\n",
              "    border: none;\n",
              "    border-radius: 50%;\n",
              "    cursor: pointer;\n",
              "    display: none;\n",
              "    fill: var(--fill-color);\n",
              "    height: 32px;\n",
              "    padding: 0;\n",
              "    width: 32px;\n",
              "  }\n",
              "\n",
              "  .colab-df-quickchart:hover {\n",
              "    background-color: var(--hover-bg-color);\n",
              "    box-shadow: 0 1px 2px rgba(60, 64, 67, 0.3), 0 1px 3px 1px rgba(60, 64, 67, 0.15);\n",
              "    fill: var(--button-hover-fill-color);\n",
              "  }\n",
              "\n",
              "  .colab-df-quickchart-complete:disabled,\n",
              "  .colab-df-quickchart-complete:disabled:hover {\n",
              "    background-color: var(--disabled-bg-color);\n",
              "    fill: var(--disabled-fill-color);\n",
              "    box-shadow: none;\n",
              "  }\n",
              "\n",
              "  .colab-df-spinner {\n",
              "    border: 2px solid var(--fill-color);\n",
              "    border-color: transparent;\n",
              "    border-bottom-color: var(--fill-color);\n",
              "    animation:\n",
              "      spin 1s steps(1) infinite;\n",
              "  }\n",
              "\n",
              "  @keyframes spin {\n",
              "    0% {\n",
              "      border-color: transparent;\n",
              "      border-bottom-color: var(--fill-color);\n",
              "      border-left-color: var(--fill-color);\n",
              "    }\n",
              "    20% {\n",
              "      border-color: transparent;\n",
              "      border-left-color: var(--fill-color);\n",
              "      border-top-color: var(--fill-color);\n",
              "    }\n",
              "    30% {\n",
              "      border-color: transparent;\n",
              "      border-left-color: var(--fill-color);\n",
              "      border-top-color: var(--fill-color);\n",
              "      border-right-color: var(--fill-color);\n",
              "    }\n",
              "    40% {\n",
              "      border-color: transparent;\n",
              "      border-right-color: var(--fill-color);\n",
              "      border-top-color: var(--fill-color);\n",
              "    }\n",
              "    60% {\n",
              "      border-color: transparent;\n",
              "      border-right-color: var(--fill-color);\n",
              "    }\n",
              "    80% {\n",
              "      border-color: transparent;\n",
              "      border-right-color: var(--fill-color);\n",
              "      border-bottom-color: var(--fill-color);\n",
              "    }\n",
              "    90% {\n",
              "      border-color: transparent;\n",
              "      border-bottom-color: var(--fill-color);\n",
              "    }\n",
              "  }\n",
              "</style>\n",
              "\n",
              "      <script>\n",
              "        async function quickchart(key) {\n",
              "          const quickchartButtonEl =\n",
              "            document.querySelector('#' + key + ' button');\n",
              "          quickchartButtonEl.disabled = true;  // To prevent multiple clicks.\n",
              "          quickchartButtonEl.classList.add('colab-df-spinner');\n",
              "          try {\n",
              "            const charts = await google.colab.kernel.invokeFunction(\n",
              "                'suggestCharts', [key], {});\n",
              "          } catch (error) {\n",
              "            console.error('Error during call to suggestCharts:', error);\n",
              "          }\n",
              "          quickchartButtonEl.classList.remove('colab-df-spinner');\n",
              "          quickchartButtonEl.classList.add('colab-df-quickchart-complete');\n",
              "        }\n",
              "        (() => {\n",
              "          let quickchartButtonEl =\n",
              "            document.querySelector('#df-5ab24c56-c04b-4844-b19d-ccac555cc756 button');\n",
              "          quickchartButtonEl.style.display =\n",
              "            google.colab.kernel.accessAllowed ? 'block' : 'none';\n",
              "        })();\n",
              "      </script>\n",
              "    </div>\n",
              "\n",
              "    </div>\n",
              "  </div>\n"
            ],
            "application/vnd.google.colaboratory.intrinsic+json": {
              "type": "dataframe",
              "variable_name": "df_big"
            }
          },
          "metadata": {},
          "execution_count": 4
        }
      ],
      "source": [
        "import pandas as pd\n",
        "\n",
        "# List of months to combine\n",
        "months = [\"2023-10\", \"2023-11\", \"2023-12\"]\n",
        "\n",
        "dfs = []\n",
        "for m in months:\n",
        "    url = f\"https://d37ci6vzurychx.cloudfront.net/trip-data/yellow_tripdata_{m}.parquet\"\n",
        "    print(\"📥 Downloading:\", url)\n",
        "    df_tmp = pd.read_parquet(url)\n",
        "    print(f\"   Rows in {m}: {len(df_tmp)}\")\n",
        "    dfs.append(df_tmp)\n",
        "\n",
        "# Combine datasets\n",
        "df_big = pd.concat(dfs, ignore_index=True)\n",
        "\n",
        "print(\"\\n✅ Combined dataset\")\n",
        "print(\"Total rows:\", len(df_big))\n",
        "print(\"Total columns:\", df_big.shape[1])\n",
        "\n",
        "# Preview first few rows\n",
        "df_big.head()\n",
        "\n"
      ]
    },
    {
      "cell_type": "code",
      "source": [
        "# Check if there are any NaN values in the dataset\n",
        "df_big.isnull().sum()\n"
      ],
      "metadata": {
        "colab": {
          "base_uri": "https://localhost:8080/",
          "height": 680
        },
        "id": "H0eddqbk0yfx",
        "outputId": "a2268b4a-02a6-4812-975e-425d16cca924"
      },
      "execution_count": 5,
      "outputs": [
        {
          "output_type": "execute_result",
          "data": {
            "text/plain": [
              "VendorID                      0\n",
              "tpep_pickup_datetime          0\n",
              "tpep_dropoff_datetime         0\n",
              "passenger_count          467607\n",
              "trip_distance                 0\n",
              "RatecodeID               467607\n",
              "store_and_fwd_flag       467607\n",
              "PULocationID                  0\n",
              "DOLocationID                  0\n",
              "payment_type                  0\n",
              "fare_amount                   0\n",
              "extra                         0\n",
              "mta_tax                       0\n",
              "tip_amount                    0\n",
              "tolls_amount                  0\n",
              "improvement_surcharge         0\n",
              "total_amount                  0\n",
              "congestion_surcharge     467607\n",
              "Airport_fee              467607\n",
              "dtype: int64"
            ],
            "text/html": [
              "<div>\n",
              "<style scoped>\n",
              "    .dataframe tbody tr th:only-of-type {\n",
              "        vertical-align: middle;\n",
              "    }\n",
              "\n",
              "    .dataframe tbody tr th {\n",
              "        vertical-align: top;\n",
              "    }\n",
              "\n",
              "    .dataframe thead th {\n",
              "        text-align: right;\n",
              "    }\n",
              "</style>\n",
              "<table border=\"1\" class=\"dataframe\">\n",
              "  <thead>\n",
              "    <tr style=\"text-align: right;\">\n",
              "      <th></th>\n",
              "      <th>0</th>\n",
              "    </tr>\n",
              "  </thead>\n",
              "  <tbody>\n",
              "    <tr>\n",
              "      <th>VendorID</th>\n",
              "      <td>0</td>\n",
              "    </tr>\n",
              "    <tr>\n",
              "      <th>tpep_pickup_datetime</th>\n",
              "      <td>0</td>\n",
              "    </tr>\n",
              "    <tr>\n",
              "      <th>tpep_dropoff_datetime</th>\n",
              "      <td>0</td>\n",
              "    </tr>\n",
              "    <tr>\n",
              "      <th>passenger_count</th>\n",
              "      <td>467607</td>\n",
              "    </tr>\n",
              "    <tr>\n",
              "      <th>trip_distance</th>\n",
              "      <td>0</td>\n",
              "    </tr>\n",
              "    <tr>\n",
              "      <th>RatecodeID</th>\n",
              "      <td>467607</td>\n",
              "    </tr>\n",
              "    <tr>\n",
              "      <th>store_and_fwd_flag</th>\n",
              "      <td>467607</td>\n",
              "    </tr>\n",
              "    <tr>\n",
              "      <th>PULocationID</th>\n",
              "      <td>0</td>\n",
              "    </tr>\n",
              "    <tr>\n",
              "      <th>DOLocationID</th>\n",
              "      <td>0</td>\n",
              "    </tr>\n",
              "    <tr>\n",
              "      <th>payment_type</th>\n",
              "      <td>0</td>\n",
              "    </tr>\n",
              "    <tr>\n",
              "      <th>fare_amount</th>\n",
              "      <td>0</td>\n",
              "    </tr>\n",
              "    <tr>\n",
              "      <th>extra</th>\n",
              "      <td>0</td>\n",
              "    </tr>\n",
              "    <tr>\n",
              "      <th>mta_tax</th>\n",
              "      <td>0</td>\n",
              "    </tr>\n",
              "    <tr>\n",
              "      <th>tip_amount</th>\n",
              "      <td>0</td>\n",
              "    </tr>\n",
              "    <tr>\n",
              "      <th>tolls_amount</th>\n",
              "      <td>0</td>\n",
              "    </tr>\n",
              "    <tr>\n",
              "      <th>improvement_surcharge</th>\n",
              "      <td>0</td>\n",
              "    </tr>\n",
              "    <tr>\n",
              "      <th>total_amount</th>\n",
              "      <td>0</td>\n",
              "    </tr>\n",
              "    <tr>\n",
              "      <th>congestion_surcharge</th>\n",
              "      <td>467607</td>\n",
              "    </tr>\n",
              "    <tr>\n",
              "      <th>Airport_fee</th>\n",
              "      <td>467607</td>\n",
              "    </tr>\n",
              "  </tbody>\n",
              "</table>\n",
              "</div><br><label><b>dtype:</b> int64</label>"
            ]
          },
          "metadata": {},
          "execution_count": 5
        }
      ]
    },
    {
      "cell_type": "code",
      "source": [
        "# Work on a copy\n",
        "df = df_big.copy()"
      ],
      "metadata": {
        "id": "xC5OzuFxwp8h"
      },
      "execution_count": 6,
      "outputs": []
    },
    {
      "cell_type": "code",
      "source": [
        "print(\"Initial shape:\", df.shape)"
      ],
      "metadata": {
        "colab": {
          "base_uri": "https://localhost:8080/"
        },
        "id": "xwSog_DVTexH",
        "outputId": "47ecf6ca-195a-411c-bfb7-60794a7322ac"
      },
      "execution_count": 7,
      "outputs": [
        {
          "output_type": "stream",
          "name": "stdout",
          "text": [
            "Initial shape: (10238567, 19)\n"
          ]
        }
      ]
    },
    {
      "cell_type": "code",
      "source": [
        "# Count of missing values per column\n",
        "nan_counts = df_big.isnull().sum()\n",
        "\n",
        "# Percentage of missing values per column\n",
        "nan_percent = (nan_counts / len(df_big)) * 100\n",
        "\n",
        "# Show only columns that have missing values\n",
        "nan_summary = nan_percent[nan_percent > 0].sort_values(ascending=False)\n",
        "\n",
        "print(\"Percentage of missing values per column:\")\n",
        "print(nan_summary)"
      ],
      "metadata": {
        "colab": {
          "base_uri": "https://localhost:8080/"
        },
        "id": "X4yZew59h7Dm",
        "outputId": "1a95b4b2-cfe9-493c-e383-95a09b90947a"
      },
      "execution_count": 9,
      "outputs": [
        {
          "output_type": "stream",
          "name": "stdout",
          "text": [
            "Percentage of missing values per column:\n",
            "passenger_count         4.567114\n",
            "RatecodeID              4.567114\n",
            "store_and_fwd_flag      4.567114\n",
            "congestion_surcharge    4.567114\n",
            "Airport_fee             4.567114\n",
            "dtype: float64\n"
          ]
        }
      ]
    },
    {
      "cell_type": "code",
      "source": [
        "# Average percentage of missing values across all columns\n",
        "overall_missing_percent = nan_summary.mean()\n",
        "print(\"\\n Average percentage of missing data (only in columns with NaNs):\", round(overall_missing_percent, 2), \"%\")"
      ],
      "metadata": {
        "colab": {
          "base_uri": "https://localhost:8080/"
        },
        "id": "FkVAvTaxiVXk",
        "outputId": "c8b1e6fa-9bae-44be-d4c3-8f1d953c1226"
      },
      "execution_count": 10,
      "outputs": [
        {
          "output_type": "stream",
          "name": "stdout",
          "text": [
            "\n",
            " Average percentage of missing data (only in columns with NaNs): 4.57 %\n"
          ]
        }
      ]
    },
    {
      "cell_type": "code",
      "source": [
        "# Parse datetimes (robust) if present\n",
        "for col in [\"tpep_pickup_datetime\", \"tpep_dropoff_datetime\"]:\n",
        "    if col in df.columns:\n",
        "        df[col] = pd.to_datetime(df[col], errors=\"coerce\")"
      ],
      "metadata": {
        "id": "T2aKWewsFBpp"
      },
      "execution_count": 11,
      "outputs": []
    },
    {
      "cell_type": "code",
      "source": [
        "print(\"Step 2 Datetime columns converted\")\n",
        "print(df[[\"tpep_pickup_datetime\", \"tpep_dropoff_datetime\"]].head(3))"
      ],
      "metadata": {
        "colab": {
          "base_uri": "https://localhost:8080/"
        },
        "id": "Wf6glP6xTvnN",
        "outputId": "b46b13c9-c45c-460a-bda3-cb823117d810"
      },
      "execution_count": 12,
      "outputs": [
        {
          "output_type": "stream",
          "name": "stdout",
          "text": [
            "Step 2 Datetime columns converted\n",
            "  tpep_pickup_datetime tpep_dropoff_datetime\n",
            "0  2023-10-01 00:16:44   2023-10-01 00:16:49\n",
            "1  2023-10-01 00:23:24   2023-10-01 00:23:47\n",
            "2  2023-10-01 00:21:18   2023-10-01 00:27:31\n"
          ]
        }
      ]
    },
    {
      "cell_type": "code",
      "source": [
        "# Create trip duration (minutes)\n",
        "if {\"tpep_pickup_datetime\",\"tpep_dropoff_datetime\"}.issubset(df.columns):\n",
        "    df[\"duration_min\"] = (df[\"tpep_dropoff_datetime\"] - df[\"tpep_pickup_datetime\"]).dt.total_seconds() / 60\n",
        "else:\n",
        "    # If those columns aren't present, make a placeholder so filters won't crash\n",
        "    df[\"duration_min\"] = np.nan"
      ],
      "metadata": {
        "id": "QtFE6aE7FhzO"
      },
      "execution_count": 14,
      "outputs": []
    },
    {
      "cell_type": "code",
      "source": [
        "print(\"Created duration_min column\")\n",
        "print(df[\"duration_min\"].describe())"
      ],
      "metadata": {
        "colab": {
          "base_uri": "https://localhost:8080/"
        },
        "id": "72pZgZ1cUDUM",
        "outputId": "38d7d6ae-fb8b-41b5-ea16-11914e39a1ee"
      },
      "execution_count": 16,
      "outputs": [
        {
          "output_type": "stream",
          "name": "stdout",
          "text": [
            "Created duration_min column\n",
            "count    1.023857e+07\n",
            "mean     1.543930e+01\n",
            "std      8.828303e+03\n",
            "min     -2.824830e+07\n",
            "25%      7.983333e+00\n",
            "50%      1.338333e+01\n",
            "75%      2.200000e+01\n",
            "max      7.188317e+03\n",
            "Name: duration_min, dtype: float64\n"
          ]
        }
      ]
    },
    {
      "cell_type": "code",
      "source": [
        "# Basic sanity filters (tune thresholds as needed)\n",
        "#    - duration between 1 and 180 minutes\n",
        "#    - nonnegative & non-extreme distance\n",
        "#    - positive & reasonable fare/total amounts\n",
        "mask = pd.Series(True, index=df.index)\n",
        "\n",
        "if \"duration_min\" in df.columns:\n",
        "    mask &= df[\"duration_min\"].between(1, 180, inclusive=\"both\")\n",
        "\n",
        "if \"trip_distance\" in df.columns:\n",
        "    mask &= (df[\"trip_distance\"] >= 0) & (df[\"trip_distance\"] < 100)\n",
        "\n",
        "for amt_col, upper in [(\"fare_amount\", 1000), (\"total_amount\", 1500)]:\n",
        "    if amt_col in df.columns:\n",
        "        mask &= df[amt_col].notna() & (df[amt_col] > 0) & (df[amt_col] < upper)\n",
        "\n",
        "if \"passenger_count\" in df.columns:\n",
        "    df[\"passenger_count\"] = df[\"passenger_count\"].fillna(1)\n",
        "    mask &= df[\"passenger_count\"].between(1, 6, inclusive=\"both\")\n",
        "\n",
        "before_rows = len(df)\n",
        "df = df[mask].reset_index(drop=True)\n",
        "after_rows = len(df)\n",
        "print(\"Applied sanity filters\")\n",
        "print(f\"Rows before: {before_rows:,} | after: {after_rows:,} | removed: {before_rows - after_rows:,}\")"
      ],
      "metadata": {
        "colab": {
          "base_uri": "https://localhost:8080/"
        },
        "id": "m4k-l_BfFl7F",
        "outputId": "025b78c3-022d-47eb-b0bc-c5e31d31ca2e"
      },
      "execution_count": 18,
      "outputs": [
        {
          "output_type": "stream",
          "name": "stdout",
          "text": [
            "Applied sanity filters\n",
            "Rows before: 9,880,959 | after: 9,880,959 | removed: 0\n"
          ]
        }
      ]
    },
    {
      "cell_type": "code",
      "source": [
        "# Handle NaNs (numeric → median, categorical → mode)\n",
        "num_cols = [c for c in df.columns if pd.api.types.is_numeric_dtype(df[c])]\n",
        "cat_cols = [c for c in df.columns if c not in num_cols]\n",
        "\n",
        "# Fill numeric NaNs\n",
        "for c in num_cols:\n",
        "    if df[c].isna().any():\n",
        "        df.loc[df[c].isna(), c] = df[c].median()\n",
        "\n",
        "# Fill categorical NaNs\n",
        "for c in cat_cols:\n",
        "    if df[c].isna().any():\n",
        "        try:\n",
        "            df.loc[df[c].isna(), c] = df[c].mode().iloc[0]\n",
        "        except Exception:\n",
        "            df.loc[df[c].isna(), c] = \"Unknown\"\n",
        "\n",
        "print(\"Handled NaN values\")\n",
        "print(\"Columns still with NaN:\", df.columns[df.isna().any()].tolist())"
      ],
      "metadata": {
        "colab": {
          "base_uri": "https://localhost:8080/"
        },
        "id": "RZBDHPFqFyut",
        "outputId": "3a24d1b9-e334-4401-ff38-54f3185a6cb7"
      },
      "execution_count": 20,
      "outputs": [
        {
          "output_type": "stream",
          "name": "stdout",
          "text": [
            "Handled NaN values\n",
            "Columns still with NaN: []\n"
          ]
        }
      ]
    },
    {
      "cell_type": "code",
      "source": [
        "df_clean = df.copy()\n",
        "print(\"Data cleaned successfully\")\n",
        "print(\"Shape after cleaning:\", df_clean.shape)"
      ],
      "metadata": {
        "colab": {
          "base_uri": "https://localhost:8080/"
        },
        "id": "dnHQDqbRbGds",
        "outputId": "1a536a62-223b-4089-b12e-062e24a51390"
      },
      "execution_count": 21,
      "outputs": [
        {
          "output_type": "stream",
          "name": "stdout",
          "text": [
            "Data cleaned successfully\n",
            "Shape after cleaning: (9880959, 20)\n"
          ]
        }
      ]
    },
    {
      "cell_type": "code",
      "source": [
        "# Final clean frame\n",
        "df_clean = df.copy()\n",
        "print(\"Step 7 Final clean data ready \")\n",
        "print(\"Final shape:\", df_clean.shape)\n",
        "print(\"Any NaNs left?\", df_clean.isnull().values.any())"
      ],
      "metadata": {
        "colab": {
          "base_uri": "https://localhost:8080/"
        },
        "id": "YKz16HykbUIE",
        "outputId": "bb82f5c3-a3b3-4254-89cf-249d1d407c29"
      },
      "execution_count": 22,
      "outputs": [
        {
          "output_type": "stream",
          "name": "stdout",
          "text": [
            "Step 7 Final clean data ready \n",
            "Final shape: (9880959, 20)\n",
            "Any NaNs left? False\n"
          ]
        }
      ]
    },
    {
      "cell_type": "code",
      "source": [
        "print(\"Total rows:\", len(df_clean))\n",
        "print(\"Total columns:\", df_clean.shape[1])"
      ],
      "metadata": {
        "colab": {
          "base_uri": "https://localhost:8080/"
        },
        "id": "StrjK67kce84",
        "outputId": "8d0fd214-9fe8-4064-f3a2-b514d9841e81"
      },
      "execution_count": 23,
      "outputs": [
        {
          "output_type": "stream",
          "name": "stdout",
          "text": [
            "Total rows: 9880959\n",
            "Total columns: 20\n"
          ]
        }
      ]
    },
    {
      "cell_type": "code",
      "source": [
        "df_clean.isnull().sum()"
      ],
      "metadata": {
        "colab": {
          "base_uri": "https://localhost:8080/",
          "height": 711
        },
        "id": "jLn_mk2nd1lk",
        "outputId": "063ffb4b-374c-41df-82f5-7aa5b8da492f"
      },
      "execution_count": 24,
      "outputs": [
        {
          "output_type": "execute_result",
          "data": {
            "text/plain": [
              "VendorID                 0\n",
              "tpep_pickup_datetime     0\n",
              "tpep_dropoff_datetime    0\n",
              "passenger_count          0\n",
              "trip_distance            0\n",
              "RatecodeID               0\n",
              "store_and_fwd_flag       0\n",
              "PULocationID             0\n",
              "DOLocationID             0\n",
              "payment_type             0\n",
              "fare_amount              0\n",
              "extra                    0\n",
              "mta_tax                  0\n",
              "tip_amount               0\n",
              "tolls_amount             0\n",
              "improvement_surcharge    0\n",
              "total_amount             0\n",
              "congestion_surcharge     0\n",
              "Airport_fee              0\n",
              "duration_min             0\n",
              "dtype: int64"
            ],
            "text/html": [
              "<div>\n",
              "<style scoped>\n",
              "    .dataframe tbody tr th:only-of-type {\n",
              "        vertical-align: middle;\n",
              "    }\n",
              "\n",
              "    .dataframe tbody tr th {\n",
              "        vertical-align: top;\n",
              "    }\n",
              "\n",
              "    .dataframe thead th {\n",
              "        text-align: right;\n",
              "    }\n",
              "</style>\n",
              "<table border=\"1\" class=\"dataframe\">\n",
              "  <thead>\n",
              "    <tr style=\"text-align: right;\">\n",
              "      <th></th>\n",
              "      <th>0</th>\n",
              "    </tr>\n",
              "  </thead>\n",
              "  <tbody>\n",
              "    <tr>\n",
              "      <th>VendorID</th>\n",
              "      <td>0</td>\n",
              "    </tr>\n",
              "    <tr>\n",
              "      <th>tpep_pickup_datetime</th>\n",
              "      <td>0</td>\n",
              "    </tr>\n",
              "    <tr>\n",
              "      <th>tpep_dropoff_datetime</th>\n",
              "      <td>0</td>\n",
              "    </tr>\n",
              "    <tr>\n",
              "      <th>passenger_count</th>\n",
              "      <td>0</td>\n",
              "    </tr>\n",
              "    <tr>\n",
              "      <th>trip_distance</th>\n",
              "      <td>0</td>\n",
              "    </tr>\n",
              "    <tr>\n",
              "      <th>RatecodeID</th>\n",
              "      <td>0</td>\n",
              "    </tr>\n",
              "    <tr>\n",
              "      <th>store_and_fwd_flag</th>\n",
              "      <td>0</td>\n",
              "    </tr>\n",
              "    <tr>\n",
              "      <th>PULocationID</th>\n",
              "      <td>0</td>\n",
              "    </tr>\n",
              "    <tr>\n",
              "      <th>DOLocationID</th>\n",
              "      <td>0</td>\n",
              "    </tr>\n",
              "    <tr>\n",
              "      <th>payment_type</th>\n",
              "      <td>0</td>\n",
              "    </tr>\n",
              "    <tr>\n",
              "      <th>fare_amount</th>\n",
              "      <td>0</td>\n",
              "    </tr>\n",
              "    <tr>\n",
              "      <th>extra</th>\n",
              "      <td>0</td>\n",
              "    </tr>\n",
              "    <tr>\n",
              "      <th>mta_tax</th>\n",
              "      <td>0</td>\n",
              "    </tr>\n",
              "    <tr>\n",
              "      <th>tip_amount</th>\n",
              "      <td>0</td>\n",
              "    </tr>\n",
              "    <tr>\n",
              "      <th>tolls_amount</th>\n",
              "      <td>0</td>\n",
              "    </tr>\n",
              "    <tr>\n",
              "      <th>improvement_surcharge</th>\n",
              "      <td>0</td>\n",
              "    </tr>\n",
              "    <tr>\n",
              "      <th>total_amount</th>\n",
              "      <td>0</td>\n",
              "    </tr>\n",
              "    <tr>\n",
              "      <th>congestion_surcharge</th>\n",
              "      <td>0</td>\n",
              "    </tr>\n",
              "    <tr>\n",
              "      <th>Airport_fee</th>\n",
              "      <td>0</td>\n",
              "    </tr>\n",
              "    <tr>\n",
              "      <th>duration_min</th>\n",
              "      <td>0</td>\n",
              "    </tr>\n",
              "  </tbody>\n",
              "</table>\n",
              "</div><br><label><b>dtype:</b> int64</label>"
            ]
          },
          "metadata": {},
          "execution_count": 24
        }
      ]
    },
    {
      "cell_type": "code",
      "source": [
        "print(\"Before cleaning (df_big):\", len(df_big))\n",
        "print(\"After cleaning (df_clean):\", len(df_clean))\n",
        "print(\"Rows removed:\", len(df_big) - len(df_clean))"
      ],
      "metadata": {
        "colab": {
          "base_uri": "https://localhost:8080/"
        },
        "id": "A-3xECrpohVn",
        "outputId": "e1479449-ea05-4e83-8418-9d278e9cc4c2"
      },
      "execution_count": 25,
      "outputs": [
        {
          "output_type": "stream",
          "name": "stdout",
          "text": [
            "Before cleaning (df_big): 10238567\n",
            "After cleaning (df_clean): 9880959\n",
            "Rows removed: 357608\n"
          ]
        }
      ]
    },
    {
      "cell_type": "code",
      "source": [
        "# Save the cleaned dataset to a CSV file\n",
        "file_path = \"/content/cleaned_taxi_data.csv\"\n",
        "df_clean.to_csv(file_path, index=False)\n",
        "\n",
        "# Let the user download it\n",
        "from google.colab import files\n",
        "files.download(file_path)"
      ],
      "metadata": {
        "colab": {
          "base_uri": "https://localhost:8080/",
          "height": 17
        },
        "id": "hYRRuSCHc7DX",
        "outputId": "a7710907-5f02-44e8-9c12-a10ef3e585d8"
      },
      "execution_count": 26,
      "outputs": [
        {
          "output_type": "display_data",
          "data": {
            "text/plain": [
              "<IPython.core.display.Javascript object>"
            ],
            "application/javascript": [
              "\n",
              "    async function download(id, filename, size) {\n",
              "      if (!google.colab.kernel.accessAllowed) {\n",
              "        return;\n",
              "      }\n",
              "      const div = document.createElement('div');\n",
              "      const label = document.createElement('label');\n",
              "      label.textContent = `Downloading \"${filename}\": `;\n",
              "      div.appendChild(label);\n",
              "      const progress = document.createElement('progress');\n",
              "      progress.max = size;\n",
              "      div.appendChild(progress);\n",
              "      document.body.appendChild(div);\n",
              "\n",
              "      const buffers = [];\n",
              "      let downloaded = 0;\n",
              "\n",
              "      const channel = await google.colab.kernel.comms.open(id);\n",
              "      // Send a message to notify the kernel that we're ready.\n",
              "      channel.send({})\n",
              "\n",
              "      for await (const message of channel.messages) {\n",
              "        // Send a message to notify the kernel that we're ready.\n",
              "        channel.send({})\n",
              "        if (message.buffers) {\n",
              "          for (const buffer of message.buffers) {\n",
              "            buffers.push(buffer);\n",
              "            downloaded += buffer.byteLength;\n",
              "            progress.value = downloaded;\n",
              "          }\n",
              "        }\n",
              "      }\n",
              "      const blob = new Blob(buffers, {type: 'application/binary'});\n",
              "      const a = document.createElement('a');\n",
              "      a.href = window.URL.createObjectURL(blob);\n",
              "      a.download = filename;\n",
              "      div.appendChild(a);\n",
              "      a.click();\n",
              "      div.remove();\n",
              "    }\n",
              "  "
            ]
          },
          "metadata": {}
        },
        {
          "output_type": "display_data",
          "data": {
            "text/plain": [
              "<IPython.core.display.Javascript object>"
            ],
            "application/javascript": [
              "download(\"download_76d32967-d9dc-4870-ba53-7da2b996bbca\", \"cleaned_taxi_data.csv\", 1181074446)"
            ]
          },
          "metadata": {}
        }
      ]
    },
    {
      "cell_type": "code",
      "source": [
        "from google.colab import drive\n",
        "drive.mount('/content/drive')"
      ],
      "metadata": {
        "colab": {
          "base_uri": "https://localhost:8080/"
        },
        "id": "zIGu20LA50ij",
        "outputId": "57d772d8-781b-4dc6-da99-65831f39caf2"
      },
      "execution_count": 29,
      "outputs": [
        {
          "output_type": "stream",
          "name": "stdout",
          "text": [
            "Mounted at /content/drive\n"
          ]
        }
      ]
    },
    {
      "cell_type": "code",
      "source": [
        "# Save both datasets directly to Google Drive\n",
        "\n",
        "# 1️Set the paths in your Google Drive\n",
        "cleaned_path = \"/content/drive/MyDrive/cleaned_taxi_data.csv\"\n",
        "raw_path = \"/content/drive/MyDrive/NYC_Taxi_Before_Cleaning.csv\"\n",
        "\n",
        "# Save the cleaned dataset\n",
        "df_clean.to_csv(cleaned_path, index=False)\n",
        "print(\"Cleaned dataset saved to Google Drive as 'cleaned_taxi_data.csv'\")\n",
        "\n",
        "# Save the combined (raw) dataset before cleaning\n",
        "df_big.to_csv(raw_path, index=False)\n",
        "print(\"Raw (before cleaning) dataset saved to Google Drive as 'NYC_Taxi_Before_Cleaning.csv'\")\n"
      ],
      "metadata": {
        "colab": {
          "base_uri": "https://localhost:8080/"
        },
        "id": "vylmsXZ15Aad",
        "outputId": "96ac0960-3710-4ab6-f5f3-da4b06049e5b"
      },
      "execution_count": 30,
      "outputs": [
        {
          "output_type": "stream",
          "name": "stdout",
          "text": [
            "Cleaned dataset saved to Google Drive as 'cleaned_taxi_data.csv'\n",
            "Raw (before cleaning) dataset saved to Google Drive as 'NYC_Taxi_Before_Cleaning.csv'\n"
          ]
        }
      ]
    },
    {
      "cell_type": "code",
      "source": [],
      "metadata": {
        "id": "fgratpIB6z-b"
      },
      "execution_count": null,
      "outputs": []
    }
  ]
}